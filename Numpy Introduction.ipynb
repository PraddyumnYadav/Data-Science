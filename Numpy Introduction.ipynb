{
 "cells": [
  {
   "cell_type": "code",
   "execution_count": 2,
   "id": "ea16ef2d",
   "metadata": {},
   "outputs": [],
   "source": [
    "import numpy as np"
   ]
  },
  {
   "cell_type": "code",
   "execution_count": 8,
   "id": "9e35f36d",
   "metadata": {},
   "outputs": [],
   "source": [
    "arr = np.arange(1000000)"
   ]
  },
  {
   "cell_type": "code",
   "execution_count": 5,
   "id": "0f544d2d",
   "metadata": {},
   "outputs": [],
   "source": [
    "pythlist = list(range(1000000))"
   ]
  },
  {
   "cell_type": "code",
   "execution_count": 6,
   "id": "4e167cd8",
   "metadata": {},
   "outputs": [
    {
     "name": "stdout",
     "output_type": "stream",
     "text": [
      "CPU times: user 348 ms, sys: 101 ms, total: 450 ms\n",
      "Wall time: 450 ms\n"
     ]
    }
   ],
   "source": [
    "%time for _ in range(10): [item * 3 for item in pythlist]"
   ]
  },
  {
   "cell_type": "code",
   "execution_count": 23,
   "id": "bb98fa90",
   "metadata": {},
   "outputs": [
    {
     "name": "stdout",
     "output_type": "stream",
     "text": [
      "CPU times: user 16.7 ms, sys: 746 µs, total: 17.4 ms\n",
      "Wall time: 15.9 ms\n"
     ]
    }
   ],
   "source": [
    "%time for _ in range(10): arr = arr * 3"
   ]
  },
  {
   "cell_type": "code",
   "execution_count": null,
   "id": "5c2ce811",
   "metadata": {},
   "outputs": [],
   "source": []
  }
 ],
 "metadata": {
  "kernelspec": {
   "display_name": "Python 3 (ipykernel)",
   "language": "python",
   "name": "python3"
  },
  "language_info": {
   "codemirror_mode": {
    "name": "ipython",
    "version": 3
   },
   "file_extension": ".py",
   "mimetype": "text/x-python",
   "name": "python",
   "nbconvert_exporter": "python",
   "pygments_lexer": "ipython3",
   "version": "3.10.7"
  }
 },
 "nbformat": 4,
 "nbformat_minor": 5
}
