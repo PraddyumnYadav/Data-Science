{
 "cells": [
  {
   "cell_type": "code",
   "execution_count": 1,
   "id": "68169702",
   "metadata": {},
   "outputs": [],
   "source": [
    "import json"
   ]
  },
  {
   "cell_type": "code",
   "execution_count": 2,
   "id": "14a01ec3",
   "metadata": {},
   "outputs": [],
   "source": [
    "with open(\"data.json\") as f:\n",
    "    x = f.read()"
   ]
  },
  {
   "cell_type": "code",
   "execution_count": 3,
   "id": "53276c9c",
   "metadata": {},
   "outputs": [],
   "source": [
    "data = json.loads(x)"
   ]
  },
  {
   "cell_type": "code",
   "execution_count": 4,
   "id": "38579eaf",
   "metadata": {},
   "outputs": [
    {
     "data": {
      "text/plain": [
       "{'todos': [{'userId': 1,\n",
       "   'id': 1,\n",
       "   'title': 'delectus aut autem',\n",
       "   'completed': False},\n",
       "  {'userId': 1,\n",
       "   'id': 2,\n",
       "   'title': 'quis ut nam facilis et officia qui',\n",
       "   'completed': False},\n",
       "  {'userId': 1, 'id': 3, 'title': 'fugiat veniam minus', 'completed': False},\n",
       "  {'userId': 1, 'id': 4, 'title': 'et porro tempora', 'completed': True},\n",
       "  {'userId': 1,\n",
       "   'id': 5,\n",
       "   'title': 'laboriosam mollitia et enim quasi adipisci quia provident illum',\n",
       "   'completed': False},\n",
       "  {'userId': 1,\n",
       "   'id': 6,\n",
       "   'title': 'qui ullam ratione quibusdam voluptatem quia omnis',\n",
       "   'completed': False},\n",
       "  {'userId': 1,\n",
       "   'id': 7,\n",
       "   'title': 'illo expedita consequatur quia in',\n",
       "   'completed': False},\n",
       "  {'userId': 1,\n",
       "   'id': 8,\n",
       "   'title': 'quo adipisci enim quam ut ab',\n",
       "   'completed': True},\n",
       "  {'userId': 1,\n",
       "   'id': 9,\n",
       "   'title': 'molestiae perspiciatis ipsa',\n",
       "   'completed': False},\n",
       "  {'userId': 1,\n",
       "   'id': 10,\n",
       "   'title': 'illo est ratione doloremque quia maiores aut',\n",
       "   'completed': True}]}"
      ]
     },
     "execution_count": 4,
     "metadata": {},
     "output_type": "execute_result"
    }
   ],
   "source": [
    "data"
   ]
  },
  {
   "cell_type": "code",
   "execution_count": 5,
   "id": "fe663dff",
   "metadata": {},
   "outputs": [
    {
     "data": {
      "text/plain": [
       "dict"
      ]
     },
     "execution_count": 5,
     "metadata": {},
     "output_type": "execute_result"
    }
   ],
   "source": [
    "type(data)"
   ]
  },
  {
   "cell_type": "code",
   "execution_count": 7,
   "id": "c0d36398",
   "metadata": {},
   "outputs": [],
   "source": [
    "todos = data['todos']"
   ]
  },
  {
   "cell_type": "code",
   "execution_count": 8,
   "id": "30f5f429",
   "metadata": {},
   "outputs": [
    {
     "data": {
      "text/plain": [
       "{'userId': 1,\n",
       " 'id': 2,\n",
       " 'title': 'quis ut nam facilis et officia qui',\n",
       " 'completed': False}"
      ]
     },
     "execution_count": 8,
     "metadata": {},
     "output_type": "execute_result"
    }
   ],
   "source": [
    "todos[1]"
   ]
  },
  {
   "cell_type": "code",
   "execution_count": null,
   "id": "6a8fc1a3",
   "metadata": {},
   "outputs": [],
   "source": []
  }
 ],
 "metadata": {
  "kernelspec": {
   "display_name": "Python 3 (ipykernel)",
   "language": "python",
   "name": "python3"
  },
  "language_info": {
   "codemirror_mode": {
    "name": "ipython",
    "version": 3
   },
   "file_extension": ".py",
   "mimetype": "text/x-python",
   "name": "python",
   "nbconvert_exporter": "python",
   "pygments_lexer": "ipython3",
   "version": "3.10.7"
  }
 },
 "nbformat": 4,
 "nbformat_minor": 5
}
